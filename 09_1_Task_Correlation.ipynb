{
  "nbformat": 4,
  "nbformat_minor": 0,
  "metadata": {
    "colab": {
      "provenance": []
    },
    "kernelspec": {
      "name": "python3",
      "display_name": "Python 3"
    },
    "language_info": {
      "name": "python"
    }
  },
  "cells": [
    {
      "cell_type": "markdown",
      "source": [
        "# **Korelasi**\n",
        "\n",
        "Korelasi adalah ukuran statistik yang mengungkapkan sejauh mana dua variabel terkait secara linier artinya mereka berubah bersama pada tingkat yang konstan baik searah maupun berlawanan arah. Korelasi digunakan untuk mendeskripsikan hubungan sederhana tanpa membuat pernyataan tentang sebab dan akibat."
      ],
      "metadata": {
        "id": "6nyd1ZKQdn7p"
      }
    },
    {
      "cell_type": "markdown",
      "source": [
        "## **Nilai Korelasi**\n",
        "\n",
        "Koefisien korelasi (biasa disimbolkan dengan *r*) dapat bernilai positif ( + ) jika hubungan dua variabel searah / berbanding lurus (semakin meningkat variabel A maka nilai variabel B juga meningkat pun sebaliknya) atau negatif ( - ) jika hubungan dua variabel berbeda arah (semakin meningkat variabel A maka nilai variabel B akan menurun begitu juga sebaliknya) dan berada pada rentang -1 s.d. 1 mendekati -1 atau 1 maka hubungan keeratan dua variabel semakin kuat. Jika nilainya mendekati 0, maka hubungan keeratan dua variabel semakin lemah.\n",
        "\n",
        "Berikut ini adalah interpretasi besarnya nilai koefisien korelasi.\n",
        "\n",
        "*   0.0 <= |*r*| <= 0.2 menyatakan hubungan keeratan sangat lemah\n",
        "*   0.2 < |*r*| <= 0.4 menyatakan hubungan keeratan lemah\n",
        "*   0.4 < |*r*| <= 0.7 menyatakan hubungan keeratan cukup kuat\n",
        "*   0.7 < |*r*| <= 0.9 menyatakan hubungan keeratan kuat\n",
        "*   0.9 < |*r*| <= 1.0 menyatakan hubungan keeratan sangat kuat."
      ],
      "metadata": {
        "id": "jEFhcJw4dqBf"
      }
    },
    {
      "cell_type": "markdown",
      "source": [
        "## **Pearson Correlation**\n",
        "\n",
        "Korelasi Pearson adalah alat analisis statistik parametrik yang digunakan untuk melihat keeratan hubungan linier antara 2 variabel yang skala datanya adalah interval atau rasio.\n",
        "<br></br>\n",
        "<b>Rumus Korelasi Pearson</b>\n",
        "  \\begin{equation}\n",
        "  r=\\frac{\\sum_{i=1}^{n}(x_{i} - \\bar{x})\\cdot(y_{i} - \\bar{y})}{\\sqrt{\\sum_{i=1}^{n}(x_{i} - \\bar{x})^2\\cdot\\sum_{i=1}^{n}(y_{i} - \\bar{y})^2}} \\\\\n",
        "  \\end{equation}\n",
        "\n",
        "Dengan :  \n",
        "<li>𝑥 = Variabel pertama </li>\n",
        "<li>𝑥̄ = Rata-rata variabel pertama </li>\n",
        "<li>𝑦 = Variabel Kedua</li>\n",
        "<li>𝑦̄ = Rata-rata variabel kedua </li>\n",
        "</ol>"
      ],
      "metadata": {
        "id": "vwTvRlxydt59"
      }
    },
    {
      "cell_type": "markdown",
      "source": [
        "## **CONTOH**\n",
        "Korelasi antara email marketing dan tingkat konversi adalah salah satu aspek yang sangat penting dalam digital marketing. Email marketing digunakan untuk mengirimkan pesan kepada pelanggan atau prospek dengan tujuan mempengaruhi tindakan mereka, seperti melakukan pembelian, mendaftar, atau mengunduh konten. Sementara itu, tingkat konversi mengukur seberapa efektif suatu kampanye dalam mendorong pengunjung untuk melakukan tindakan yang diinginkan, seperti pembelian atau pendaftaran.\n",
        "\n",
        "Hitung berapa korelasi antara data open_rate dan conversion_rate dibawah ini serta tentukan jenis korelasinya!"
      ],
      "metadata": {
        "id": "OthiX1tweYkZ"
      }
    },
    {
      "cell_type": "code",
      "execution_count": null,
      "metadata": {
        "id": "-hTSHn1_dk9p"
      },
      "outputs": [],
      "source": [
        "# Data kampanye email\n",
        "open_rate = [0.25, 0.3, 0.35, 0.4, 0.45, 0.5, 0.55, 0.6, 0.65, 0.7, 0.75, 0.8, 0.85, 0.9, 0.95]\n",
        "conversion_rate = [0.02, 0.03, 0.04, 0.05, 0.06, 0.07, 0.08, 0.09, 0.1, 0.11, 0.12, 0.13, 0.14, 0.15, 0.16]"
      ]
    },
    {
      "cell_type": "markdown",
      "source": [
        "**JAWAB :**\n",
        "\n",
        "1. Cari rata-rata open_rate"
      ],
      "metadata": {
        "id": "Dx-RqpC6evD8"
      }
    },
    {
      "cell_type": "code",
      "source": [
        "rataan_open_rate = ..."
      ],
      "metadata": {
        "id": "ldzbjAR7e0Eh"
      },
      "execution_count": null,
      "outputs": []
    },
    {
      "cell_type": "markdown",
      "source": [
        "2. Cari rata-rata conversion_rate"
      ],
      "metadata": {
        "id": "cb6Qc9PUe2qI"
      }
    },
    {
      "cell_type": "code",
      "source": [
        "rataan_conversion_rate = ..."
      ],
      "metadata": {
        "id": "YOlpmwZVe7Gf"
      },
      "execution_count": null,
      "outputs": []
    },
    {
      "cell_type": "markdown",
      "source": [
        "3. Hitung bagian pembilang (dimisalkan sebagai A)\n",
        "\n",
        "  \\begin{equation}\n",
        "  A = \\sum_{i=1}^{n}(x_{i} - \\bar{x})\\cdot(y_{i} - \\bar{y})\n",
        "  \\end{equation}"
      ],
      "metadata": {
        "id": "sLn78iOufFPt"
      }
    },
    {
      "cell_type": "code",
      "source": [
        "jumlah_pembilang = 0\n",
        "\n",
        "for ...\n",
        "  jumlah_pembilang += ..."
      ],
      "metadata": {
        "id": "lq0yF4hhfTad"
      },
      "execution_count": null,
      "outputs": []
    },
    {
      "cell_type": "markdown",
      "source": [
        "4. Hitung bagian penyebut (dimisalkan sebagai B)\n",
        "\n",
        "  \\begin{equation}\n",
        "  B = \\sqrt{\\sum_{i=1}^{n}(x_{i} - \\bar{x})^2\\cdot\\sum_{i=1}^{n}(y_{i} - \\bar{y})^2}\n",
        "  \\end{equation}"
      ],
      "metadata": {
        "id": "xJazYyFDfd0F"
      }
    },
    {
      "cell_type": "code",
      "source": [
        "import math\n",
        "\n",
        "jumlah_penyebut = 0\n",
        "\n",
        "for ...\n",
        "  jumlah_penyebut += ..."
      ],
      "metadata": {
        "id": "86Poa1l5flUz"
      },
      "execution_count": null,
      "outputs": []
    },
    {
      "cell_type": "markdown",
      "source": [
        "5. Lakukan perhitungan korelasi\n",
        "\n",
        "<b>Rumus Korelasi Pearson</b>\n",
        "  \\begin{equation}\n",
        "  r=\\frac{\\sum_{i=1}^{n}(x_{i} - \\bar{x})\\cdot(y_{i} - \\bar{y})}{\\sqrt{\\sum_{i=1}^{n}(x_{i} - \\bar{x})^2\\cdot\\sum_{i=1}^{n}(y_{i} - \\bar{y})^2}} \\\\\n",
        "  \\end{equation}"
      ],
      "metadata": {
        "id": "jztVjKyTfpo2"
      }
    },
    {
      "cell_type": "code",
      "source": [
        "r = jumlah_pembilang / jumlah_penyebut\n",
        "\n",
        "print(f'Korelasi = {r:.4f}')"
      ],
      "metadata": {
        "id": "VGpgO_cHfsJi"
      },
      "execution_count": null,
      "outputs": []
    },
    {
      "cell_type": "markdown",
      "source": [
        "6. Tentukan jenis korelasi\n",
        "\n",
        "*   0.0 <= |*r*| <= 0.2 menyatakan hubungan keeratan sangat lemah\n",
        "*   0.2 < |*r*| <= 0.4 menyatakan hubungan keeratan lemah\n",
        "*   0.4 < |*r*| <= 0.7 menyatakan hubungan keeratan cukup kuat\n",
        "*   0.7 < |*r*| <= 0.9 menyatakan hubungan keeratan kuat\n",
        "*   0.9 < |*r*| <= 1.0 menyatakan hubungan keeratan sangat kuat."
      ],
      "metadata": {
        "id": "Xud9QXBgf4dQ"
      }
    },
    {
      "cell_type": "code",
      "source": [
        "if ..."
      ],
      "metadata": {
        "id": "EZV2l_12f9Y6"
      },
      "execution_count": null,
      "outputs": []
    },
    {
      "cell_type": "markdown",
      "source": [
        "7. Interpretasikan Hasilnya\n",
        "\n",
        "...."
      ],
      "metadata": {
        "id": "DD4Iaxwqf-x8"
      }
    }
  ]
}
