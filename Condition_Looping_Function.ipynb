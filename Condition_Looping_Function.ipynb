{
  "nbformat": 4,
  "nbformat_minor": 0,
  "metadata": {
    "colab": {
      "provenance": [],
      "toc_visible": true,
      "include_colab_link": true
    },
    "kernelspec": {
      "name": "python3",
      "display_name": "Python 3"
    },
    "language_info": {
      "name": "python"
    }
  },
  "cells": [
    {
      "cell_type": "markdown",
      "metadata": {
        "id": "view-in-github",
        "colab_type": "text"
      },
      "source": [
        "<a href=\"https://colab.research.google.com/github/Anggara13/Bootcamp_by_DQLab/blob/main/Condition_Looping_Function.ipynb\" target=\"_parent\"><img src=\"https://colab.research.google.com/assets/colab-badge.svg\" alt=\"Open In Colab\"/></a>"
      ]
    },
    {
      "cell_type": "markdown",
      "source": [
        "# 🤹🏼‍♂️ **Condition Statement**\n",
        "\n",
        "*   Percabangan dalam Python memungkinkan program untuk membuat keputusan berdasarkan kondisi yang diberikan.\n",
        "*   Kondisi yang dieksekusi adalah sebuah pernyataan boolean (pernyataan yang bernilai benar \\[True\\] atau salah \\[False\\])\n",
        "*   Untuk membuat sebuah pernyataan boolean, pada umumnya akan digunakan operator pembanding<br><br>\n",
        "\n",
        "<p align=\"center\">\n",
        "<img src=\"https://codeforwin.org/wp-content/uploads/2017/08/if-else-statement-flow-chart.png\" width=\"400\" height=\"310\" alt=\"alternatetext\">\n",
        "<p align=\"center\"><b>Gambar 1. Konsep Percabangan</b></p></p><br>\n",
        "\n",
        "Note : <i>Suatu kondisi / statement akan diperiksa terlebih dahulu. Jika memenuhi maka sebuah pernyataan akan dieksekusi, jika tidak maka akan diperiksa kondisi setelahnya dan seterusnya.</i>"
      ],
      "metadata": {
        "id": "OeJlLtfcigWY"
      }
    },
    {
      "cell_type": "markdown",
      "source": [
        "## **1. Operator Pembanding**\n",
        "\n",
        "*   Operator pembanding digunakan untuk membandingkan antara 2 nilai untuk menghasilkan nilai logika (<i>logical value</i>)\n",
        "*   Nilai yang ingin dibandingkan harus dari tipe data yang sejenis\n",
        "<br><br>\n",
        "<p align=\"center\">\n",
        "<img src=\"https://www.devopsschool.com/blog/wp-content/uploads/2020/08/relational-operator-in-python.png\" width=\"500\" height=\"220\" alt=\"alternatetext\">\n",
        "<p align=\"center\"><b>Gambar 2. Operator Pembanding</b></p></p><br>\n",
        "\n",
        "\n",
        "Note : <i>Simbol '=' (sama dengan) digunakan untuk assignment sebuah nilai pada variabel sedangkan simbol '==' digunakan untuk membandingkan atau memeriksa apakah dua variabel mempunyai nilai yang sama</i>"
      ],
      "metadata": {
        "id": "tPMsDqIzpA7f"
      }
    },
    {
      "cell_type": "markdown",
      "source": [
        "### 👨‍💻 Task 1 - A\n",
        "\n",
        "Buatlah dua variabel misalkan x dan y lalu assign variabel x dengan nilai 3 dan variabel y dengan nilai -4. Tebak apa output dari perintah dibawah ini jika dieksekusi?\n",
        "\n",
        "```\n",
        "print(x >= y)\n",
        "```\n",
        "\n"
      ],
      "metadata": {
        "id": "FIS5EUfK5Cmq"
      }
    },
    {
      "cell_type": "code",
      "execution_count": 1,
      "metadata": {
        "colab": {
          "base_uri": "https://localhost:8080/",
          "height": 158
        },
        "id": "TtASXUkPfu8A",
        "outputId": "352db4a4-e740-4ad4-c341-0e73f52799b5"
      },
      "outputs": [
        {
          "output_type": "error",
          "ename": "NameError",
          "evalue": "name 'x' is not defined",
          "traceback": [
            "\u001b[0;31m---------------------------------------------------------------------------\u001b[0m",
            "\u001b[0;31mNameError\u001b[0m                                 Traceback (most recent call last)",
            "\u001b[0;32m<ipython-input-1-072874c5e8a7>\u001b[0m in \u001b[0;36m<cell line: 2>\u001b[0;34m()\u001b[0m\n\u001b[1;32m      1\u001b[0m \u001b[0;31m# Write your code below here & exec!\u001b[0m\u001b[0;34m\u001b[0m\u001b[0;34m\u001b[0m\u001b[0m\n\u001b[0;32m----> 2\u001b[0;31m \u001b[0mprint\u001b[0m\u001b[0;34m(\u001b[0m\u001b[0mx\u001b[0m \u001b[0;34m>=\u001b[0m \u001b[0my\u001b[0m\u001b[0;34m)\u001b[0m\u001b[0;34m\u001b[0m\u001b[0;34m\u001b[0m\u001b[0m\n\u001b[0m",
            "\u001b[0;31mNameError\u001b[0m: name 'x' is not defined"
          ]
        }
      ],
      "source": [
        "# Write your code below here & exec!\n",
        "print(x >= y)"
      ]
    },
    {
      "cell_type": "markdown",
      "source": [
        "### 👨‍💻 Task 1 - B\n",
        "\n",
        "Jika benar <u>nilai</u> bertipe data karakter / string yang disimpan pada variabel bersifat <i>Case Sensitive</i> (peka terhadap besar kecilnya huruf), coba periksa kebenarannya (buktikan)!\n"
      ],
      "metadata": {
        "id": "A3W24dWW6Nrb"
      }
    },
    {
      "cell_type": "code",
      "source": [
        "# Write your code below here & exec!\n",
        "..."
      ],
      "metadata": {
        "id": "UpDfSBWb68LO",
        "colab": {
          "base_uri": "https://localhost:8080/"
        },
        "outputId": "6bf2aa62-430e-40d2-e27e-43e6af3e7bf5"
      },
      "execution_count": null,
      "outputs": [
        {
          "output_type": "stream",
          "name": "stdout",
          "text": [
            "False\n"
          ]
        }
      ]
    },
    {
      "cell_type": "markdown",
      "source": [
        "### 👨‍💻 Task 1 - C\n",
        "\n",
        "Eksekusi kode berikut\n",
        "\n",
        "```\n",
        "a = 3.0000000000000000001\n",
        "b = 3\n",
        "c = (a == b)\n",
        "```\n",
        "\n",
        "Kira - kira apa yang akan muncul saat `print(c)` dieksekusi setelahnya? Berikan alasanmu !\n",
        "\n",
        "\n"
      ],
      "metadata": {
        "id": "rglrxAbB69VQ"
      }
    },
    {
      "cell_type": "code",
      "source": [
        "# Write your code below here & exec! (19)\n",
        "a = 3.0000000000000000001\n",
        "b = 3\n",
        "c = (a == b)\n",
        "\n",
        "print(c)"
      ],
      "metadata": {
        "id": "jLi1Kfsu7Su5",
        "colab": {
          "base_uri": "https://localhost:8080/"
        },
        "outputId": "defcd1de-d292-4758-9d5b-3c24a4088914"
      },
      "execution_count": 3,
      "outputs": [
        {
          "output_type": "stream",
          "name": "stdout",
          "text": [
            "True\n"
          ]
        }
      ]
    },
    {
      "cell_type": "code",
      "source": [
        "a = 3.000000000000001\n",
        "b = 3\n",
        "c = (a == b)\n",
        "\n",
        "print(c)"
      ],
      "metadata": {
        "colab": {
          "base_uri": "https://localhost:8080/"
        },
        "id": "tkkgLN9Pr3hf",
        "outputId": "aefcc713-bad4-4468-a5f7-62ff68208a33"
      },
      "execution_count": 4,
      "outputs": [
        {
          "output_type": "stream",
          "name": "stdout",
          "text": [
            "False\n"
          ]
        }
      ]
    },
    {
      "cell_type": "markdown",
      "source": [
        "16 digit dibelakang koma masih FALSE\n",
        "\n",
        "Jika lebih dari 16 digit nilainya dapat TRUE"
      ],
      "metadata": {
        "id": "ZuxKyfS-r52Y"
      }
    },
    {
      "cell_type": "markdown",
      "source": [
        "##🧩 **2. Operator Logika**\n",
        "\n",
        "*  Operator logika digunakan untuk mengkombinasi dan membandingkan 2 atau lebih pernyataan / kondisi boolean.<br><br>\n",
        "\n",
        "<p align=\"center\">\n",
        "<img src=\"https://qph.cf2.quoracdn.net/main-qimg-b21874c7e7bdbefd344ad820798e6ab1\" width=\"500\" height=\"180\" alt=\"alternatetext\">\n",
        "<p align=\"center\"><b>Gambar 3. Operator Logika</b></p></p>\n",
        "\n",
        "Dengan ketentuan :\n",
        "<ol>\n",
        "  <li>\n",
        "     Kondisi <b>and</b> akan bernilai True jika semua kondisi boolean bernilai benar. Jika hanya ada satu saja kondisi bernilai salah (<i>False condition</i>) maka akan dihasilkan nilai False\n",
        "  </li>\n",
        "  <li>\n",
        "     Kondisi <b>or</b> akan bernilai True jika minimal satu kondisi boolean bernilai benar. Jika semua kondisi bernilai salah, maka barulah kondisi or menghasilkan nilai False\n",
        "  </li>\n",
        "  <li>\n",
        "     Kondisi <b>not</b> akan menegasikan / membalik kondisi sebenarnya (True menjadi False atau sebaliknya)\n",
        "  </li>\n",
        "</ol>"
      ],
      "metadata": {
        "id": "jYdv8o_V7ree"
      }
    },
    {
      "cell_type": "markdown",
      "source": [
        "### 👨‍💻 Task 2 - A\n",
        "\n",
        "Untuk memasukan sebuah nilai anda dapat menggunakan fungsi `input('text')`. Misalkan hasil inputan user disimpan ke dalam sebuah variabel bernama `input_rataan_pengeluaran` kemudian periksa apakah rataan pengeluaran orang tersebut diantara IDR 4 s.d 7 juta? <br><br>\n",
        "\n",
        "\n",
        "*Perlu diperhatikan bahwa input pada Python selalu me-return **string** sehingga kadangkala perlu dilakukan konversi tipe data*"
      ],
      "metadata": {
        "id": "FxaBVCScCdQZ"
      }
    },
    {
      "cell_type": "code",
      "source": [
        "input_rataan_pengeluaran = input('Masukan pengeluaran : ')"
      ],
      "metadata": {
        "colab": {
          "base_uri": "https://localhost:8080/"
        },
        "id": "KloOsColskUw",
        "outputId": "49e7fed2-cdad-4f2a-ee55-0ce5c6cbd3f7"
      },
      "execution_count": 6,
      "outputs": [
        {
          "name": "stdout",
          "output_type": "stream",
          "text": [
            "Masukan pengeluaran : 4000\n"
          ]
        }
      ]
    },
    {
      "cell_type": "code",
      "source": [
        "type(input_rataan_pengeluaran)"
      ],
      "metadata": {
        "colab": {
          "base_uri": "https://localhost:8080/"
        },
        "id": "8f6SecezsoEp",
        "outputId": "89d78842-457a-465e-c6e7-1dbdf82916e1"
      },
      "execution_count": 7,
      "outputs": [
        {
          "output_type": "execute_result",
          "data": {
            "text/plain": [
              "str"
            ]
          },
          "metadata": {},
          "execution_count": 7
        }
      ]
    },
    {
      "cell_type": "code",
      "source": [
        "# Write your code below here & exec!\n",
        "input_rataan_pengeluaran = input('Masukan pengeluaran : ')\n",
        "\n",
        "# Konversi tipe data (str -> float)\n",
        "input_rataan_pengeluaran = float(input_rataan_pengeluaran)\n",
        "\n",
        "# Periksa kondisi\n",
        "cek = (input_rataan_pengeluaran >= 4000000) and (input_rataan_pengeluaran <= 7000000)\n",
        "\n",
        "# Tampilkan output\n",
        "print(f'Apakah pengeluaran diantara 4 sampai 7 juta? {cek}')"
      ],
      "metadata": {
        "id": "09JA7EfOEaxb",
        "colab": {
          "base_uri": "https://localhost:8080/"
        },
        "outputId": "3b047f12-4233-4fb1-c5d5-69892bed41b0"
      },
      "execution_count": 8,
      "outputs": [
        {
          "output_type": "stream",
          "name": "stdout",
          "text": [
            "Masukan pengeluaran : 390000\n",
            "Apakah pengeluaran diantara 4 sampai 7 juta? False\n"
          ]
        }
      ]
    },
    {
      "cell_type": "markdown",
      "source": [
        "### 👨‍💻 Task 2 - B\n",
        "\n",
        "Bantu Sendja untuk memperbaiki sistem yang sedang ia buat, dimana asal penyebutan username sama dengan email yang ia daftarkan 'sendja@dqtech.com' maka variabel check akan bernilai True (mengabaikan besar kecilnya karakter)<br><br>\n",
        "\n",
        "*Saat ini check masih bernilai False (lihat prompt dibawah)*"
      ],
      "metadata": {
        "id": "HGjOv3DfEpVp"
      }
    },
    {
      "cell_type": "code",
      "source": [
        "# Write your code below here & exec!\n",
        "username = 'sEnDJa@DQteCH.CoM'\n",
        "\n",
        "cek = (username.lower() == 'sendja@dqtech.com')\n",
        "\n",
        "print(cek)"
      ],
      "metadata": {
        "colab": {
          "base_uri": "https://localhost:8080/"
        },
        "id": "zM_4uqFSL528",
        "outputId": "82e09a08-8452-464d-8aff-37a275ed288c"
      },
      "execution_count": 9,
      "outputs": [
        {
          "output_type": "stream",
          "name": "stdout",
          "text": [
            "True\n"
          ]
        }
      ]
    },
    {
      "cell_type": "code",
      "source": [
        "# Initialize Variables\n",
        "registered_email = 'sendja@dqtech.com'\n",
        "username = 'sEnDJa@DQteCH.CoM.com'  # Contoh input username\n",
        "# Check if username matches registered email (case-insensitive)\n",
        "check = (username.lower() == registered_email.lower())\n",
        "# result\n",
        "print(check)"
      ],
      "metadata": {
        "colab": {
          "base_uri": "https://localhost:8080/"
        },
        "id": "zCJtdMZmt5PA",
        "outputId": "a5ddc95d-ce3f-4536-94ec-b81f6e4d3331"
      },
      "execution_count": 10,
      "outputs": [
        {
          "output_type": "stream",
          "name": "stdout",
          "text": [
            "False\n"
          ]
        }
      ]
    },
    {
      "cell_type": "code",
      "source": [
        "username = 'sEnDJa@DQteCH.CoM'\n",
        "if username == 'sEnDJa@DQteCH.CoM':\n",
        "  check = True\n",
        "else:\n",
        "  check = False\n",
        "print(check)"
      ],
      "metadata": {
        "colab": {
          "base_uri": "https://localhost:8080/"
        },
        "id": "FQnaGKeeuEhJ",
        "outputId": "2bdec889-475b-4843-94c1-ed9a755426d8"
      },
      "execution_count": 11,
      "outputs": [
        {
          "output_type": "stream",
          "name": "stdout",
          "text": [
            "True\n"
          ]
        }
      ]
    },
    {
      "cell_type": "markdown",
      "source": [
        "## 🎢 **3. Membership Operator**\n",
        "\n",
        "* Operator keanggotaan digunakan untuk menguji apakah urutan disajikan dalam suatu objek.\n",
        "* Gunakan perintah <code><b>in</b></code> untuk pengujian keanggotaan\n",
        "* Gunakan perintah <code><b>not in</b></code> untuk pengujian non - keanggotaan."
      ],
      "metadata": {
        "id": "e-HOgjTXRRfL"
      }
    },
    {
      "cell_type": "markdown",
      "source": [
        "### 👨‍💻 Task 3 - A\n",
        "\n",
        "Periksa apakah <b>'Finance'</b> terdapat pada list `department_name`?"
      ],
      "metadata": {
        "id": "72IfoQhQSNKM"
      }
    },
    {
      "cell_type": "code",
      "source": [
        "department_name = ['Sales & Marketing', 'Information & Technology', 'Human Resource', 'General Affairs', 'Finance', 'Coorporate Secretary', 'Research & Development']\n",
        "\n",
        "# Write your code below here & exec!\n",
        "check = ('Finance' in department_name)\n",
        "\n",
        "print(check)"
      ],
      "metadata": {
        "id": "NcdiczKiR62N",
        "colab": {
          "base_uri": "https://localhost:8080/"
        },
        "outputId": "9676dc55-867c-4ab8-bc51-d7aacdf9f8e1"
      },
      "execution_count": 14,
      "outputs": [
        {
          "output_type": "stream",
          "name": "stdout",
          "text": [
            "True\n"
          ]
        }
      ]
    },
    {
      "cell_type": "code",
      "source": [
        "department_name = ['Sales & Marketing', 'Information & Technology', 'Human Resource', 'General Affairs', 'Finance', 'Coorporate Secretary', 'Research & Development']\n",
        "\n",
        "# Write your code below here & exec!\n",
        "check = (['Finance'] in department_name)\n",
        "\n",
        "print(check)"
      ],
      "metadata": {
        "colab": {
          "base_uri": "https://localhost:8080/"
        },
        "id": "FGcqemYkuqnI",
        "outputId": "18c8f9b7-39c2-45dc-d205-6a6f713906ea"
      },
      "execution_count": 15,
      "outputs": [
        {
          "output_type": "stream",
          "name": "stdout",
          "text": [
            "False\n"
          ]
        }
      ]
    },
    {
      "cell_type": "markdown",
      "source": [
        "Kenapa hasilnya FALSE:\n",
        "1. Karena di dalam list karakternya tidak sama.\n",
        "2. Penggunaan kurung siku hanya boleh diisi number list dengan tipe nilai Interger."
      ],
      "metadata": {
        "id": "_Af6EiwtvgkW"
      }
    },
    {
      "cell_type": "markdown",
      "source": [
        "### 👨‍💻 Task 3 - B\n",
        "\n",
        "Sendja menuliskan sebuah kode untuk memeriksa apakah 123 termasuk anggota dari '123456'. Namun di dapati *error* saat dieksekusi. Bantu Sendja mendiagnosa mengapa hal ini terjadi dan coba lakukan *debug process* (perbaikan kode)"
      ],
      "metadata": {
        "id": "G8ixxJSVUJxz"
      }
    },
    {
      "cell_type": "code",
      "source": [
        "# Initialize Variable\n",
        "x = 123\n",
        "y = '123456'\n",
        "\n",
        "# Check membership\n",
        "z = (x in y)\n",
        "\n",
        "# Show result\n",
        "print(z)"
      ],
      "metadata": {
        "colab": {
          "base_uri": "https://localhost:8080/",
          "height": 211
        },
        "id": "oq1oVap0UKOy",
        "outputId": "a12ea629-b5d4-49ba-e5ac-e36d093c6ec7"
      },
      "execution_count": 16,
      "outputs": [
        {
          "output_type": "error",
          "ename": "TypeError",
          "evalue": "'in <string>' requires string as left operand, not int",
          "traceback": [
            "\u001b[0;31m---------------------------------------------------------------------------\u001b[0m",
            "\u001b[0;31mTypeError\u001b[0m                                 Traceback (most recent call last)",
            "\u001b[0;32m<ipython-input-16-77dd0f744b59>\u001b[0m in \u001b[0;36m<cell line: 6>\u001b[0;34m()\u001b[0m\n\u001b[1;32m      4\u001b[0m \u001b[0;34m\u001b[0m\u001b[0m\n\u001b[1;32m      5\u001b[0m \u001b[0;31m# Check membership\u001b[0m\u001b[0;34m\u001b[0m\u001b[0;34m\u001b[0m\u001b[0m\n\u001b[0;32m----> 6\u001b[0;31m \u001b[0mz\u001b[0m \u001b[0;34m=\u001b[0m \u001b[0;34m(\u001b[0m\u001b[0mx\u001b[0m \u001b[0;32min\u001b[0m \u001b[0my\u001b[0m\u001b[0;34m)\u001b[0m\u001b[0;34m\u001b[0m\u001b[0;34m\u001b[0m\u001b[0m\n\u001b[0m\u001b[1;32m      7\u001b[0m \u001b[0;34m\u001b[0m\u001b[0m\n\u001b[1;32m      8\u001b[0m \u001b[0;31m# Show result\u001b[0m\u001b[0;34m\u001b[0m\u001b[0;34m\u001b[0m\u001b[0m\n",
            "\u001b[0;31mTypeError\u001b[0m: 'in <string>' requires string as left operand, not int"
          ]
        }
      ]
    },
    {
      "cell_type": "code",
      "source": [
        "# Lakukan perbaikan disini!\n",
        "\n",
        "# Initialize Variable\n",
        "x = 123\n",
        "y = '123456'\n",
        "\n",
        "# Check membership\n",
        "z = (str(x) in y)\n",
        "\n",
        "# Show result\n",
        "print(z)"
      ],
      "metadata": {
        "colab": {
          "base_uri": "https://localhost:8080/"
        },
        "id": "NL1cd1XsD6y2",
        "outputId": "5af629de-a69f-4340-fce7-829ac6cf192c"
      },
      "execution_count": 17,
      "outputs": [
        {
          "output_type": "stream",
          "name": "stdout",
          "text": [
            "True\n"
          ]
        }
      ]
    },
    {
      "cell_type": "code",
      "source": [
        "# Initialize Variable\n",
        "x = '123'\n",
        "y = '123456'\n",
        "\n",
        "# Check membership\n",
        "z = (x in y)\n",
        "\n",
        "# Show result\n",
        "print(z)"
      ],
      "metadata": {
        "colab": {
          "base_uri": "https://localhost:8080/"
        },
        "id": "em837uYxwiJe",
        "outputId": "1424262a-00ea-4baf-f407-f3d242bef0ba"
      },
      "execution_count": 19,
      "outputs": [
        {
          "output_type": "stream",
          "name": "stdout",
          "text": [
            "True\n"
          ]
        }
      ]
    },
    {
      "cell_type": "markdown",
      "source": [
        "## ⏰ **4. Statement IF - ELIF - ELSE**\n",
        "\n",
        "* Fungsi <b>if</b> merupakan kondisi yang digunakan untuk menentukan tindakan apa yang dilakukan sesuai dengan keadaan tertentu.\n",
        "* Statement <code>if</code> diletakkan paling awal dan akan selalu dieksekusi saat di-*running*.\n",
        "* Penggunaan fungsi <b>if</b> - <b>elif</b> - <b>else</b> dapat menyesuaikan sesuai kondisi yang diinginkan.\n",
        "* Bentuk umum fungsi if adalah sebagai berikut :\n",
        "\n",
        "```\n",
        "    if(kondisi pertama):\n",
        "        pernyataan yang akan dieksekusi jika kondisi terpenuhi\n",
        "    elif(kondisi kedua):\n",
        "        pernyataan yang akan dieksekusi jika kondisi terpenuhi\n",
        "     ...\n",
        "\n",
        "    else:\n",
        "        pernyataan default akan dieksekusi jika tidak ada pernyataan diatas yang terpenuhi\n",
        "```\n",
        "\n",
        "Note : <i>Ketika sebuah kondisi terpenuhi, maka kondisi setelahnya tidak akan diperiksa namun jika tidak maka akan diperiksa kondisi setelahnya dan seterusnya sampai semua kondisi tidak memenuhi maka kondisi <b>else</b> (kondisi default) akan dieksekusi (hal ini berlaku secara berurutan)</i>\n",
        "\n",
        "  "
      ],
      "metadata": {
        "id": "yyL7VY2_RLO0"
      }
    },
    {
      "cell_type": "markdown",
      "source": [
        "### 👨‍💻 Task 4 - A\n",
        "\n",
        "Saat sedang *flash sale*, DQTech memberikan diskon sebesar 10% setiap pembelian minimum IDR 100.000. Lakukan simulasi berikut :    \n",
        "\n",
        "1.   Lakukan proses input untuk total pembelian\n",
        "2.   Lakukan konversi tipe data (str -> float)\n",
        "3.   Lakukan proses pemeriksaan kondisi <br>\n",
        "     Jika lebih dari pembelian minimum, maka tampilkan pada prompt <br>**'Selamat anda mendapatkan diskon 10%'**\n",
        "     <br>Jika tidak maka tampilkan <br>**'Maaf, total pembelian Anda belum mencapai minimum pembelian.'**\n",
        "\n"
      ],
      "metadata": {
        "id": "P6c5hnFqW2_c"
      }
    },
    {
      "cell_type": "code",
      "source": [
        "# 1. Proses input untuk total pembelian\n",
        "total_pembelian_str = input(\"Masukkan total pembelian: \")\n",
        "\n",
        "# 2. Konversi tipe data\n",
        "total_pembelian = float(total_pembelian_str)\n",
        "\n",
        "# 3. Pemeriksaan kondisi\n",
        "if(total_pembelian >= 100000):\n",
        "  print('Selamat anda mendaptkan diskon 10%')\n",
        "else:\n",
        "  print('Maaf, total pembelian Anda belum mencapai minimum pembelian')"
      ],
      "metadata": {
        "id": "egCOY0DkWQbh",
        "colab": {
          "base_uri": "https://localhost:8080/"
        },
        "outputId": "266234c3-88d0-4eac-c762-92d1307f2d4d"
      },
      "execution_count": 21,
      "outputs": [
        {
          "output_type": "stream",
          "name": "stdout",
          "text": [
            "Masukkan total pembelian: 105000\n",
            "Selamat anda mendaptkan diskon 10%\n"
          ]
        }
      ]
    },
    {
      "cell_type": "markdown",
      "source": [
        "### 👨‍💻 Task 4 - B\n",
        "\n",
        "Setelah dievaluasi, manager operasional mengubah kebijakan diskon menjadi\n",
        "\n",
        "*   Jika pembelian diatas IDR 75.000 maka mendapatkan discount 10%\n",
        "*   Jika tidak memenuhi syarat diatas maka hanya mendapatkan discount 5%\n",
        "\n",
        "Dengan cara yang sama seperti **Task 4 - A**, namun outputnya diubah menjadi\n",
        "\n",
        "`'Anda Hanya Perlu Membayar IDR YYYYYYY dari Total Pembelian Anda IDR XXXXXXX'`<br>\n",
        "\n",
        "<sup>XXXXXXX : <i>Harga sebelum diskon</i><br>\n",
        "YYYYYYY : Harga setelah diskon</sup>\n",
        "\n",
        "\n"
      ],
      "metadata": {
        "id": "Dgo40u_7Z9uy"
      }
    },
    {
      "cell_type": "code",
      "source": [
        "# 1. Proses input untuk total pembelian\n",
        "total_pembelian_str = input(\"Masukkan total pembelian: \")\n",
        "\n",
        "# 2. Konversi tipe data\n",
        "total_pembelian = float(total_pembelian_str)\n",
        "\n",
        "# 3. Pemeriksaan kondisi\n",
        "if (total_pembelian >= 75000):\n",
        "  print('Selamat anda mendapat diskon 10%')\n",
        "  print(f'Anda Hanya Perlu Membayar IDR {total_pembelian*0.9} dari Total Pembelian Anda IDR {total_pembelian}')\n",
        "else:\n",
        "  print('Selamat anda mendapat diskon 5%')\n",
        "  print(f'Anda Hanya Perlu Membayar IDR {total_pembelian*0.95} dari Total Pembelian Anda IDR {total_pembelian}')"
      ],
      "metadata": {
        "id": "tEFlgvPYbzDx",
        "colab": {
          "base_uri": "https://localhost:8080/"
        },
        "outputId": "09d8a2f7-6843-4773-8bab-4fd890a9a501"
      },
      "execution_count": 25,
      "outputs": [
        {
          "output_type": "stream",
          "name": "stdout",
          "text": [
            "Masukkan total pembelian: 100000\n",
            "Selamat anda mendapat diskon 10%\n",
            "Anda Hanya Perlu Membayar IDR 90000.0 dari Total Pembelian Anda IDR 100000.0\n"
          ]
        }
      ]
    },
    {
      "cell_type": "code",
      "source": [
        "# 1. Proses input untuk total pembelian\n",
        "total_pembelian_str = input(\"Masukkan total pembelian: \")\n",
        "\n",
        "# 2. Konversi tipe data\n",
        "total_pembelian = float(total_pembelian_str)\n",
        "\n",
        "# 3. Pemeriksaan kondisi dan hasil\n",
        "if(total_pembelian >= 75000):\n",
        "  discount = 0.1*total_pembelian\n",
        "else:\n",
        "  discount = 0.05*total_pembelian\n",
        "\n",
        "grand_total = total_pembelian - (discount)\n",
        "\n",
        "# Tampilkan hasilnya\n",
        "print(f'Anda Hanya Perlu Membayar IDR {grand_total} dari Total Pembelian Anda IDR {total_pembelian}')"
      ],
      "metadata": {
        "id": "fcfT6OXl0kO9",
        "outputId": "77b9d972-db7d-4ecb-a999-aab291b269e4",
        "colab": {
          "base_uri": "https://localhost:8080/"
        }
      },
      "execution_count": 23,
      "outputs": [
        {
          "output_type": "stream",
          "name": "stdout",
          "text": [
            "Masukkan total pembelian: 120000\n",
            "Anda Hanya Perlu Membayar IDR 108000.0 dari Total Pembelian Anda IDR 120000.0\n"
          ]
        }
      ]
    },
    {
      "cell_type": "markdown",
      "source": [
        "### 👨‍💻 Task 4 - C\n",
        "\n",
        "Departmen Human Resource DQTech mengklasifikasikan Turn Over Rate (persentase karyawan yang keluar dari sebuah perusahaan dalam jangka waktu tertentu) adalah sebagai berikut\n",
        "\n",
        "1.   Turnover Rate kurang dari 5% dikategorikan 'Rendah'\n",
        "2.   Turnover Rate antara 5 - 10% dikategorikan 'Sedang'\n",
        "3.   Turnover Rate lebih dari 10% dikategorikan 'Tinggi'\n",
        "\n",
        "Misalkan pada awal tahun 2022, DQTech memiliki 1500 karyawan dan diakhir Desember karyawan yang masih bertahan sebanyak 1316. Hitung presentase Trun Over Rate di perusahaan DQTech dan tampilkan pula kategorinya menggunakan fungsi if\n"
      ],
      "metadata": {
        "id": "f4SIn-q_ptLT"
      }
    },
    {
      "cell_type": "code",
      "source": [
        "total_karyawan = 1500\n",
        "karyawan_bertahan = 1316\n",
        "\n",
        "karyawan_resign = total_karyawan - karyawan_bertahan\n",
        "\n",
        "turn_over_rate = (karyawan_resign / total_karyawan)*100\n",
        "\n",
        "# Write your code below here & exec!\n",
        "print(f'Karyawan resign = {karyawan_resign} dengan TOR = {turn_over_rate:.2f}%')"
      ],
      "metadata": {
        "id": "Y4VXWnkiqyta",
        "colab": {
          "base_uri": "https://localhost:8080/"
        },
        "outputId": "66d45e66-0f09-489f-c832-1b6cf22101b7"
      },
      "execution_count": 30,
      "outputs": [
        {
          "output_type": "stream",
          "name": "stdout",
          "text": [
            "Karyawan resign = 184 dengan TOR = 12.27%\n"
          ]
        }
      ]
    },
    {
      "cell_type": "code",
      "source": [
        "# Kondisi kategori turn over\n",
        "if(turn_over_rate < 5):\n",
        "  kategori = 'Rendah'\n",
        "elif(5 <= turn_over_rate <= 10):\n",
        "  kategori = 'Sedang'\n",
        "else:\n",
        "  kategori = 'Tinggi'\n",
        "\n",
        "print(kategori)"
      ],
      "metadata": {
        "colab": {
          "base_uri": "https://localhost:8080/"
        },
        "id": "ASI7Y6HlU-4O",
        "outputId": "4cefc4b3-0d56-45b7-b10c-ced754b48b74"
      },
      "execution_count": 31,
      "outputs": [
        {
          "output_type": "stream",
          "name": "stdout",
          "text": [
            "Tinggi\n"
          ]
        }
      ]
    },
    {
      "cell_type": "markdown",
      "source": [
        "## ⏰ **5. Nested IF**\n",
        "\n",
        "Nested if merupakan penggunaan kondisi setelah sebuah kondisi terpenuhi (kondisi didalam kondisi). Bentuk umum nested if adalah sebagai berikut :\n",
        "\n",
        "    if(kondisi pertama):\n",
        "        if (kondisi 1 setelah kondisi pertama terpenuhi):\n",
        "            pernyataan yang akan dieksekusi jika kondisi terpenuhi\n",
        "        elif(kondisi 2 setelah kondisi pertama terpenuhi):\n",
        "            pernyataan yang akan dieksekusi jika kondisi terpenuhi\n",
        "        ...\n",
        "        else:\n",
        "            pernyataan yang akan dieksekusi jika kondisi terpenuhi\n",
        "\n",
        "    elif(kondisi kedua):\n",
        "        pernyataan yang akan dieksekusi jika kondisi terpenuhi </br>\n",
        "     ...\n",
        "\n",
        "    else:\n",
        "        pernyataan default akan dieksekusi jika tidak ada pernyataan diatas yang terpenuhi</br>\n"
      ],
      "metadata": {
        "id": "9EQl3VaSrZSo"
      }
    },
    {
      "cell_type": "markdown",
      "source": [
        "### 👨‍💻 Task 5\n",
        "\n",
        "Sebelum mengeksekusi kode dibawah ini, coba kalian baca kode program dibawah ini dan prediksi apa kira-kira output yang dihasilkan jika x, y dan z ditampilkan!"
      ],
      "metadata": {
        "id": "EGR3GH0lrtw1"
      }
    },
    {
      "cell_type": "code",
      "source": [
        "# Input variabel\n",
        "a = input('Masukan nilai a : ')\n",
        "b = input('Masukan nilai b : ')\n",
        "c = input('Masukan nilai c : ')\n",
        "\n",
        "# Data Type Convertion\n",
        "a = float(a)\n",
        "b = float(b)\n",
        "c = float(c)\n",
        "\n",
        "# Nested IF\n",
        "if (a <= b):\n",
        "    if (b <= c):\n",
        "        x, y, z = a, b, c\n",
        "    elif(a <= c):\n",
        "        x, y, z = a, c, b\n",
        "    else:\n",
        "        x, y, z = c, a, b\n",
        "else:\n",
        "    if (a <= c):\n",
        "        x, y, z = b, a, c\n",
        "    elif(b <= c):\n",
        "        x, y, z = b, c, a\n",
        "    else:\n",
        "        x, y, z = c, b, a"
      ],
      "metadata": {
        "id": "V1Xx62k7rlPC",
        "colab": {
          "base_uri": "https://localhost:8080/"
        },
        "outputId": "28206fb4-5795-425d-94ad-5b26e4016feb"
      },
      "execution_count": 32,
      "outputs": [
        {
          "name": "stdout",
          "output_type": "stream",
          "text": [
            "Masukan nilai a : 7\n",
            "Masukan nilai b : 4\n",
            "Masukan nilai c : 1\n"
          ]
        }
      ]
    },
    {
      "cell_type": "code",
      "source": [
        "# Mengurutkan nilai\n",
        "print(f'x = {x}, y = {y}, z = {z}')"
      ],
      "metadata": {
        "id": "v4NLslMQ3NIa",
        "outputId": "720314eb-4a56-4105-89df-3f5968671446",
        "colab": {
          "base_uri": "https://localhost:8080/"
        }
      },
      "execution_count": 34,
      "outputs": [
        {
          "output_type": "stream",
          "name": "stdout",
          "text": [
            "x = 1.0, y = 4.0, z = 7.0\n"
          ]
        }
      ]
    },
    {
      "cell_type": "markdown",
      "source": [
        "# 🔁 **Looping**\n",
        "\n",
        "* Perulangan (<i>looping</i>) merupakan pernyataan atau instruksi yang diberikan kepada komputer agar ia mau melakukan sesuatu secara berulang.\n",
        "\n",
        "* Perulangan hanya dapat dilakukan pada <i>iterables</i> (string, range, list, dict, dll)\n",
        "\n",
        "<p align=\"center\">\n",
        "<img src=\"https://www.fireblazeaischool.in/blogs/wp-content/uploads/2020/06/Loop-in-Python-1024x576.png\" width=\"500\" height=\"280\" alt=\"alternatetext\">\n",
        "<p align=\"center\"><b>Gambar 4. Flowchart Looping</b></p></p><br>\n"
      ],
      "metadata": {
        "id": "U-jUtZJ9xJhZ"
      }
    },
    {
      "cell_type": "markdown",
      "source": [
        "## 🪤 6. Looping dengan For atau While\n",
        "Perulangan pada python dapat menggunakan perintah <b>for</b> maupun <b>while</b>\n",
        "\n",
        "```\n",
        "while(True Conditions):\n",
        "    do something\n",
        "```\n",
        "\n",
        "atau\n",
        "\n",
        "```\n",
        "for element in iterables:\n",
        "    do something\n",
        "```"
      ],
      "metadata": {
        "id": "5kxRQSr2BK6u"
      }
    },
    {
      "cell_type": "markdown",
      "source": [
        "### 👨‍💻 Task 6 - A\n",
        "\n",
        "Range adalah fungsi atau konsep yang digunakan untuk membuat urutan bilangan bulat berurutan. Range biasanya digunakan dalam loop untuk mengeksekusi perintah berulang kali selama jumlah iterasi yang telah ditentukan. Secara umum ditulis sebagai\n",
        "\n",
        "```\n",
        "range(start, stop, step)\n",
        "```\n",
        "\n",
        "Dengan melakukan looping <i>for</i>, tampilkan barisan bilangan berikut :\n",
        "\n",
        "1<br>\n",
        "4<br>\n",
        "7<br>\n",
        "10<br>\n",
        "13<br>"
      ],
      "metadata": {
        "id": "XVhWMcBiFapp"
      }
    },
    {
      "cell_type": "code",
      "source": [
        "# Write your code below here & exec!\n",
        "for i in range(1, 14, 3):\n",
        "  print(f'Nilainya adalah : {i}')"
      ],
      "metadata": {
        "id": "2Q-oLSIq_xxR",
        "colab": {
          "base_uri": "https://localhost:8080/"
        },
        "outputId": "84702673-c152-4a07-c9bc-a591318d4608"
      },
      "execution_count": 35,
      "outputs": [
        {
          "output_type": "stream",
          "name": "stdout",
          "text": [
            "Nilainya adalah : 1\n",
            "Nilainya adalah : 4\n",
            "Nilainya adalah : 7\n",
            "Nilainya adalah : 10\n",
            "Nilainya adalah : 13\n"
          ]
        }
      ]
    },
    {
      "cell_type": "markdown",
      "source": [
        "### 👨‍💻 Task 6 - B\n",
        "\n",
        "Pada *Customer Retention Analysis*, DQTech menetapkan status customer sebagai berikut\n",
        "\n",
        "Customer yang melakukan pembelian pada :\n",
        "\n",
        "* Rentang waktu 1 - 120 hari yang lalu (dari hari pertama pembelian) dikategorikan sebagai **New Customer**\n",
        "* Rentang waktu 121 - 240 hari yang lalu (dari hari pertama pembelian) dikategorikan sebagai **Need Attention**\n",
        "* Rentang waktu 241 - 360 hari yang lalu (dari hari pertama pembelian) dikategorikan sebagai **Hibernating**\n",
        "* Lebih dari 360 hari dikategorikan sebagai **Can't Lose Them**\n",
        "\n",
        "Dari hasil analisa *recency* berikut didapatkan data [187, 76, 51, 43, 89, 451, 12, 200, 12]\n",
        "\n",
        "Buatlah kode untuk menampilkan hasil sebagai berikut\n",
        "```\n",
        "Recency = 187 masuk ke dalam kategori Need Attention\n",
        "Recency = 76 masuk ke dalam kategori New Customer\n",
        "...\n",
        "```"
      ],
      "metadata": {
        "id": "NwnBoScNWo3h"
      }
    },
    {
      "cell_type": "code",
      "source": [
        "data_recency = [187, 76, 51, 43, 89, 451, 12, 200, 12, 89, 90, 3891, 900]\n",
        "\n",
        "# Write your code below here & exec!\n",
        "for data in data_recency:\n",
        "  if(1 <= data <= 120):\n",
        "    kategori = 'New Customer'\n",
        "  elif(121 <= data <= 240):\n",
        "    kategori = 'Need Attention'\n",
        "  elif(241 <= data <= 360):\n",
        "    kategori = 'Hibernating'\n",
        "  else:\n",
        "    kategori = \"Can't Lose Them\"\n",
        "\n",
        "  print(f'Recency = {data} masuk ke dalam kategori {kategori}')"
      ],
      "metadata": {
        "id": "vo3KxAGQRwxo",
        "colab": {
          "base_uri": "https://localhost:8080/"
        },
        "outputId": "3ad16f17-8bb5-4b89-ff95-7db566a60ad6"
      },
      "execution_count": 36,
      "outputs": [
        {
          "output_type": "stream",
          "name": "stdout",
          "text": [
            "Recency = 187 masuk ke dalam kategori Need Attention\n",
            "Recency = 76 masuk ke dalam kategori New Customer\n",
            "Recency = 51 masuk ke dalam kategori New Customer\n",
            "Recency = 43 masuk ke dalam kategori New Customer\n",
            "Recency = 89 masuk ke dalam kategori New Customer\n",
            "Recency = 451 masuk ke dalam kategori Can't Lose Them\n",
            "Recency = 12 masuk ke dalam kategori New Customer\n",
            "Recency = 200 masuk ke dalam kategori Need Attention\n",
            "Recency = 12 masuk ke dalam kategori New Customer\n",
            "Recency = 89 masuk ke dalam kategori New Customer\n",
            "Recency = 90 masuk ke dalam kategori New Customer\n",
            "Recency = 3891 masuk ke dalam kategori Can't Lose Them\n",
            "Recency = 900 masuk ke dalam kategori Can't Lose Them\n"
          ]
        }
      ]
    },
    {
      "cell_type": "markdown",
      "source": [
        "---"
      ],
      "metadata": {
        "id": "ubhxZFa78Dqh"
      }
    },
    {
      "cell_type": "markdown",
      "source": [
        "# 🕵🏻‍♂️ **Function**\n",
        "\n",
        "* Function atau fungsi adalah blok kode yang terorganisir dan dapat digunakan kembali yang digunakan untuk melakukan satu tindakan terkait.\n",
        "* Fungsi memberikan modularitas yang lebih baik untuk program dan penggunaan ulang kode tingkat tinggi.\n",
        "\n",
        "* Bentuk umum fungsi :    \n",
        "\n",
        "```\n",
        "def nama_fungsi(argumen):\n",
        "    isi_fungsi\n",
        "    return (hasil)\n",
        "```\n",
        "\n",
        "*argumen dan <i>return</i> (nilai kembalian) salah satu atau keduanya bersifat opsional.*\n",
        "\n",
        "\n",
        "Notes :\n",
        "<li>Sebuah fungsi dapat dipanggil berulang kali</li>\n",
        "<li>Penamaan fungsi mirip dengan aturan penamaan variabel</li>"
      ],
      "metadata": {
        "id": "EMuxz0Z88EU5"
      }
    },
    {
      "cell_type": "markdown",
      "source": [
        "## ⚖️ 7. Argumen\n",
        "\n",
        "Argumen (atau beberapa menyebut parameter) digunakan sebagai variabel bebas yang bisa diinisialisasikan oleh user sifatnya wajib dipanggil saat tidak disetting defaultnya. Perhatikan contoh berikut\n",
        "\n",
        "```\n",
        "def tampilkan_pelanggan(cust_name):\n",
        "    print(f'Nama pelanggan = {cust_name}')\n",
        "```\n",
        "\n",
        "Saat fungsi tersebut dipanggil lalu diinisialisasi argumennya maka akan diperoleh\n",
        "\n",
        "```\n",
        "tampilkan_pelanggan(cust_name = 'Aksara')\n",
        "\n",
        "output :\n",
        "   Nama pelanggan = Aksara\n",
        "```\n",
        "\n",
        "Sedangkan jika tidak dipanggil argumennya maka akan mengakibatkan error\n",
        "\n",
        "```\n",
        "tampilkan_pelanggan()\n",
        "\n",
        "output :\n",
        "   ---------------------------------------------------------------------------\n",
        "   TypeError                                 Traceback (most recent call last)\n",
        "   <ipython-input-7-8e3e4532eb31> in <cell line: 1>()\n",
        "   ----> 1 tampilkan_pelanggan()\n",
        "\n",
        "   TypeError: tampilkan_pelanggan() missing 1 required positional argument: 'cust_name'\n",
        "```\n",
        "\n"
      ],
      "metadata": {
        "id": "1Ncar4cc_iSR"
      }
    },
    {
      "cell_type": "markdown",
      "source": [
        "### 👨‍💻 Task 7\n",
        "\n",
        "Buatlah sebuah fungsi dengan nama fungsi `jenis_bilangan` dengan argumen yang dinamai dengan `data` (argumen ini bertipe data list numerik). Contoh :     \n",
        "\n",
        "```\n",
        "list_data = [1, 2, 6, 4, 3]\n",
        "\n",
        "jenis_bilangan(data = list_data)\n",
        "\n",
        "output :     \n",
        "    Angka 1 termasuk bilangan ganjil\n",
        "    Angka 2 termasuk bilangan genap\n",
        "    Angka 6 termasuk bilangan genap\n",
        "    Angka 4 termasuk bilangan genap\n",
        "    Angka 3 termasuk bilangan ganjil    \n",
        "```"
      ],
      "metadata": {
        "id": "oz8K1RaDKHHU"
      }
    },
    {
      "cell_type": "code",
      "source": [
        "# Write your code below here & exec!\n",
        "..."
      ],
      "metadata": {
        "id": "vy-uOUjzPItX"
      },
      "execution_count": null,
      "outputs": []
    },
    {
      "cell_type": "code",
      "source": [
        "# List data\n",
        "list_data = [1, 2, 6, 4, 3, -5, -8, 0]\n",
        "\n",
        "# Terapkan fungsinya\n",
        "..."
      ],
      "metadata": {
        "id": "MAak12i9S_iC",
        "colab": {
          "base_uri": "https://localhost:8080/"
        },
        "outputId": "cb4ef643-3936-4a20-fc84-3cbcd2473aa7"
      },
      "execution_count": null,
      "outputs": [
        {
          "output_type": "stream",
          "name": "stdout",
          "text": [
            "Angka 1 termasuk bilangan ganjil\n",
            "Angka 2 termasuk bilangan genap\n",
            "Angka 6 termasuk bilangan genap\n",
            "Angka 4 termasuk bilangan genap\n",
            "Angka 3 termasuk bilangan ganjil\n",
            "Angka -5 termasuk bilangan ganjil\n",
            "Angka -8 termasuk bilangan genap\n",
            "Angka 0 termasuk bilangan genap\n"
          ]
        }
      ]
    },
    {
      "cell_type": "markdown",
      "source": [
        "## 🤖 **8. Default Argumen**\n",
        "\n",
        "* Default argument adalah nilai yang diberikan kepada suatu parameter fungsi jika tidak ada nilai yang diberikan oleh pemanggil fungsi untuk parameter tersebut.\n",
        "* Ketika fungsi dipanggil, jika pemanggil fungsi tidak memberikan nilai untuk parameter yang memiliki argumen default, maka nilai default tersebut akan digunakan.\n",
        "\n",
        "```\n",
        "def tampilkan_pelanggan(cust_name = 'Anonymous'):\n",
        "    print(f'Nama pelanggan = {cust_name}')\n",
        "```\n",
        "\n",
        "Saat fungsi tersebut dipanggil, namun argumen cust_name tidak diinisialisasikan maka nilai default-lah yang akan muncul\n",
        "\n",
        "```\n",
        "tampilkan_pelanggan()\n",
        "\n",
        "output :\n",
        "    Nama pelanggan = Anonymous\n",
        "```\n",
        "\n",
        "Namun jika argumen cust_name diberi nilai maka default argumen akan tergantikan\n",
        "\n",
        "```\n",
        "tampilkan_pelanggan(cust_name = 'Aksara')\n",
        "\n",
        "output :\n",
        "   Nama pelanggan = Aksara\n",
        "```\n",
        "\n",
        "Sehingga dapat disimpulkan jika argumen tidak diatur default argumennya maka argumen tersebut wajib (mandatory) diberi nilai / diinisialisasi, jika argumen default diatur maka statusnya turun dari mandatory menjadi opsional"
      ],
      "metadata": {
        "id": "UQC1VKMyOFT4"
      }
    },
    {
      "cell_type": "markdown",
      "source": [
        "### 👨‍💻 Task 8\n",
        "\n",
        "Salah satu proses ETL adalah Ekstraksi data atau mendapatkan data. Untuk mengkonversi data dari sebuah database SQL menjadi dataframe pandas (data yang bisa diolah dengan Python) adalah dengan menggunakan bantuan read_sql.<br><br>\n",
        "\n",
        "Kunjungi laman dokumentasi resmi pandas.read_sql berikut https://pandas.pydata.org/docs/reference/api/pandas.read_sql.html dan catatlah argumen apa saja yang digunakan lalu beri keterangan pula mana saja yang merupakan argumen *mandatory* dan mana yang merupakan *argumen optional* (default argument)"
      ],
      "metadata": {
        "id": "KRHf1U8-P7W8"
      }
    },
    {
      "cell_type": "markdown",
      "source": [
        "##🎣**9. Return**\n",
        "\n",
        "* Return digunakan sebagai nilai kembalian (fungsi menghasilkan sebuah objek / nilai)\n",
        "* Sifatnya opsional\n",
        "\n",
        "Perhatikan contoh berikut\n",
        "\n",
        "```\n",
        "def hasil_kali_dengan_return(x, y):\n",
        "    result = x * y\n",
        "    return(result)\n",
        "```\n",
        "\n",
        "Jika fungsi tersebut dieksekusi maka\n",
        "\n",
        "```\n",
        "z = hasil_kali_dengan_return(x = 5, y = -2)\n",
        "\n",
        "print(z)\n",
        "\n",
        "output :     \n",
        "    -10\n",
        "```\n",
        "\n",
        "---\n",
        "\n",
        "Bandingkan dengan\n",
        "\n",
        "```\n",
        "def hasil_kali_tanpa_return(x, y):\n",
        "    result = x * y\n",
        "```\n",
        "\n",
        "Jika fungsi tersebut dieksekusi maka\n",
        "\n",
        "```\n",
        "z = hasil_kali_tanpa_return(x = 5, y = -2)\n",
        "\n",
        "print(z)\n",
        "\n",
        "output :     \n",
        "    None\n",
        "```\n",
        "\n",
        "Kesimpulan : Jika ingin diperoleh suatu nilai dari hasil eksekusi fungsi, maka perlu menggunakan `return`, jika tidak maka tidak perlu digunakan\n",
        "\n",
        "\n"
      ],
      "metadata": {
        "id": "crHS9vafAJcE"
      }
    },
    {
      "cell_type": "markdown",
      "source": [
        "### 👨‍💻 Task 9\n",
        "\n",
        "Buatlah sebuah fungsi dengan nama fungsi `rataan_data` dengan argumen yang dinamai dengan `data` (argumen ini bertipe data list numerik). Contoh :     \n",
        "\n",
        "```\n",
        "list_data = [1, 2, 6, 8, 4, 3]\n",
        "\n",
        "mean = rataan_data(data = list_data)\n",
        "\n",
        "print(f'Rataan dari data {list_data} adalah {mean}')\n",
        "\n",
        "output :     \n",
        "    Rataan dari data [1, 2, 6, 8, 4, 3] adalah 4\n",
        "```"
      ],
      "metadata": {
        "id": "exmixIhgVyT4"
      }
    },
    {
      "cell_type": "code",
      "source": [
        "# Write your code below here & exec!\n",
        "..."
      ],
      "metadata": {
        "id": "Myq1eDLUZFAK"
      },
      "execution_count": null,
      "outputs": []
    },
    {
      "cell_type": "code",
      "source": [
        "list_data = [1, 2, 6, 8, 4, 3]\n",
        "\n",
        "mean = ...\n",
        "\n",
        "print(f'Rataan dari data {list_data} adalah {mean}')"
      ],
      "metadata": {
        "colab": {
          "base_uri": "https://localhost:8080/"
        },
        "id": "5JWjsNjFZP4R",
        "outputId": "4a88d329-5e92-4e6b-e8d9-6e4ee1a07763"
      },
      "execution_count": null,
      "outputs": [
        {
          "output_type": "stream",
          "name": "stdout",
          "text": [
            "Rataan dari data [1, 2, 6, 8, 4, 3] adalah 4.0\n"
          ]
        }
      ]
    },
    {
      "cell_type": "markdown",
      "source": [
        "---"
      ],
      "metadata": {
        "id": "czfDAY-xW-FD"
      }
    },
    {
      "cell_type": "markdown",
      "source": [
        "![New Project (4).png](data:image/png;base64,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)"
      ],
      "metadata": {
        "id": "y80M9vaZ3f3t"
      }
    },
    {
      "cell_type": "markdown",
      "source": [
        "**Written By :** <br>\n",
        "<a href=\"https://linkedin.com/in/bachtiyarma\"><img alt=\"Linked In Link\" src=\"https://img.shields.io/badge/-Bachtiyar%20M.%20Arief-0072b1?style=for-the-badge&logo=None&logoColor=white\" align=\"left\"/></a>\n",
        "\n",
        "<br><br>**for :**\n",
        "\n",
        "<a href=\"https://dqlab.id/\"><img src=\"https://dqlab.id/files/dqlab/cache/87e30118ebba5ec7d96f6ea8c9dcc10b_x_118_X_55.png\" align=\"left\" /></a>"
      ],
      "metadata": {
        "id": "zaWFfUuBW_Pd"
      }
    }
  ]
}